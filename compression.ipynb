{
 "cells": [
  {
   "cell_type": "code",
   "execution_count": 46,
   "metadata": {},
   "outputs": [],
   "source": [
    "from PIL import Image\n",
    "import numpy as np\n",
    "from scipy.fft import dct\n",
    "from huffman import *\n",
    "import math\n",
    "import pickle"
   ]
  },
  {
   "cell_type": "code",
   "execution_count": 3,
   "metadata": {},
   "outputs": [
    {
     "name": "stdout",
     "output_type": "stream",
     "text": [
      "[[[147 126 149]\n",
      "  [146 126 149]\n",
      "  [148 126 149]\n",
      "  ...\n",
      "  [ 99 134 145]\n",
      "  [101 134 145]\n",
      "  [103 134 143]]\n",
      "\n",
      " [[139 126 149]\n",
      "  [141 126 149]\n",
      "  [150 126 149]\n",
      "  ...\n",
      "  [ 98 134 145]\n",
      "  [100 134 145]\n",
      "  [102 134 143]]\n",
      "\n",
      " [[149 126 150]\n",
      "  [143 126 150]\n",
      "  [146 126 149]\n",
      "  ...\n",
      "  [ 99 134 145]\n",
      "  [101 134 145]\n",
      "  [102 134 143]]\n",
      "\n",
      " ...\n",
      "\n",
      " [[  4 130 128]\n",
      "  [  0 130 127]\n",
      "  [  6 130 128]\n",
      "  ...\n",
      "  [ 46 101 131]\n",
      "  [124  88 133]\n",
      "  [127  85 133]]\n",
      "\n",
      " [[  5 130 128]\n",
      "  [  1 130 128]\n",
      "  [  7 130 128]\n",
      "  ...\n",
      "  [  7 124 127]\n",
      "  [ 74  86 132]\n",
      "  [131  83 133]]\n",
      "\n",
      " [[  6 130 128]\n",
      "  [  4 130 128]\n",
      "  [  9 130 128]\n",
      "  ...\n",
      "  [109  91 132]\n",
      "  [139  85 133]\n",
      "  [ 95  81 133]]]\n"
     ]
    }
   ],
   "source": [
    "image = Image.open('photo1.png')\n",
    "ycbcr = image.convert('YCbCr')\n",
    "\n",
    "## Chroma Subsampling 4:2:2\n",
    "npmat = np.array(ycbcr, dtype=np.uint8)\n",
    "print(npmat)\n",
    "\n",
    "chroma = npmat.copy()\n",
    "chroma[:, 1::2] = chroma[:, ::2] # 4:2:2"
   ]
  },
  {
   "cell_type": "code",
   "execution_count": 4,
   "metadata": {},
   "outputs": [],
   "source": [
    "quan_lum = np.array([[16,11,10,16,24,40,51,61],\n",
    "                    [12,12,14,19,26,58,60,55],\n",
    "                    [14,13,16,24,40,57,69,56],\n",
    "                    [14,17,22,29,51,87,80,62],\n",
    "                    [18,22,37,56,68,109,103,77],\n",
    "                    [24,35,55,64,81,104,113,92],\n",
    "                    [49,64,78,87,103,121,120,101],\n",
    "                    [72,92,95,98,112,100,103,99]])\n",
    "# Chrominance\n",
    "quan_chr = np.array([[17,18,24,47,99,99,99,99],\n",
    "                    [18,21,26,66,99,99,99,99],\n",
    "                    [24,26,56,99,99,99,99,99],\n",
    "                    [47,66,99,99,99,99,99,99],\n",
    "                    [99,99,99,99,99,99,99,99],\n",
    "                    [99,99,99,99,99,99,99,99],\n",
    "                    [99,99,99,99,99,99,99,99],\n",
    "                    [99,99,99,99,99,99,99,99]])\n",
    "def quantization(x, type):\n",
    "\n",
    "    assert type in ('lum', 'chr')\n",
    "        \n",
    "    if type == 'lum':\n",
    "        return np.round(x/quan_lum)\n",
    "    else:\n",
    "        return np.round(x/quan_chr)\n"
   ]
  },
  {
   "cell_type": "code",
   "execution_count": 5,
   "metadata": {},
   "outputs": [],
   "source": [
    "def run_length_coding(x):\n",
    "    rlc = []\n",
    "    last_iteratation = 0\n",
    "    for i, j in enumerate(x):\n",
    "        ##print('x', j)\n",
    "        if j != 0:\n",
    "            rlc.append([i-last_iteratation, j])\n",
    "            last_iteratation = i+1\n",
    "            ##print(rlc)\n",
    "\n",
    "    return rlc\n"
   ]
  },
  {
   "cell_type": "code",
   "execution_count": 6,
   "metadata": {},
   "outputs": [],
   "source": [
    "def dpcm(x):\n",
    "    dpcm = []\n",
    "    dpcm.append(x[0])\n",
    "    for i in range(1, len(x), 1):\n",
    "        dpcm.append(x[i] - x[i-1])\n",
    "\n",
    "    return dpcm"
   ]
  },
  {
   "cell_type": "code",
   "execution_count": 24,
   "metadata": {},
   "outputs": [],
   "source": [
    "def bit_numerator(x):\n",
    "    if x ==0:\n",
    "        return 1\n",
    "    if x < 0:\n",
    "        x = x * -1\n",
    "        return 1 + math.floor(math.log(x, 2))\n",
    "    if x > 0:\n",
    "        ##print((math.log([x,2])))\n",
    "        return math.ceil(math.log(x,2))\n"
   ]
  },
  {
   "cell_type": "code",
   "execution_count": 8,
   "metadata": {},
   "outputs": [],
   "source": [
    "def go_up(point):\n",
    "    return (point[0] - 1, point[1])\n",
    "def go_down(point):\n",
    "    return (point[0] + 1, point[1])\n",
    "def go_right(point):\n",
    "    return (point[0], point[1] + 1)\n",
    "def go_left(point):\n",
    "    return (point[0], point[1] - 1)\n",
    "\n",
    "def check_border(point, row, col):\n",
    "    return 0 <= point[0] < row and 0 <= point[1] < col\n",
    "\n",
    "def zigzag(row, col):\n",
    "    point = (0, 0)\n",
    "    total_block = row * col\n",
    "    ##print(total_block)\n",
    "    f = True\n",
    "    ##print('hi')\n",
    "    for _ in range(row * col):\n",
    "        ##print(point)\n",
    "        yield point\n",
    "        if f:\n",
    "            if check_border(go_up(go_right( point)), row, col):\n",
    "                point = go_up(go_right( point))\n",
    "            else:\n",
    "                f = False\n",
    "                if check_border(go_right( point), row, col):\n",
    "                    point = go_right( point)\n",
    "                else:\n",
    "                    point = go_down(point)\n",
    "        else:\n",
    "            if check_border(go_down(go_left(point)), row, col):\n",
    "                point = go_down(go_left(point))\n",
    "            else:\n",
    "                f = True\n",
    "                if check_border(go_down( point), row, col):\n",
    "                    point = go_down( point)\n",
    "                else:\n",
    "                    point = go_right( point)\n"
   ]
  },
  {
   "cell_type": "code",
   "execution_count": 9,
   "metadata": {},
   "outputs": [
    {
     "name": "stdout",
     "output_type": "stream",
     "text": [
      "---------Vertical--------\n",
      "856 1280\n",
      "17120\n"
     ]
    }
   ],
   "source": [
    "\n",
    "block_y = 8\n",
    "block_x = 8\n",
    "\n",
    "\n",
    "# Vertical padding\n",
    "if chroma.shape[0] % block_y != 0:\n",
    "    print('---------Vertical--------')\n",
    "    vpad = chroma.shape[0] % block_y\n",
    "    vpad = block_y - vpad\n",
    "    top= vpad // 2 \n",
    "    bottom = vpad - top\n",
    "    image = np.concatenate((np.repeat(chroma[:1], top, 0), chroma, \n",
    "                            np.repeat(chroma[-1:], bottom, 0)), axis=0)\n",
    "        \n",
    "# Horizontal padding\n",
    "if chroma.shape[1] % block_x != 0:\n",
    "    hpad = chroma.shape[1] % block_x\n",
    "    left = hpad // 2 \n",
    "    right = hpad - left\n",
    "    image = np.concatenate((np.repeat(chroma[:,:1], left, 1), chroma, \n",
    "                            np.repeat(chroma[:,-1:], right, 1)), axis=1)\n",
    "\n",
    "total_blocks = (image.shape[0]//8 ) * (image.shape[1]//8)\n",
    "print(image.shape[0], image.shape[1])\n",
    "dc = np.empty((total_blocks, 3), dtype=np.int32)\n",
    "ac = np.empty((total_blocks, 63, 3), dtype=np.int32)\n",
    "\n",
    "blocks = []\n",
    "counter = 0\n",
    "for i in range(0, image.shape[0], 8):\n",
    "    for j in range(0, image.shape[1], 8):\n",
    "        counter += 1\n",
    "        for k in range(3):\n",
    "            blocks.append({'block':image[i:i+block_x, j:j+block_y, k],\n",
    "                            'k': k,\n",
    "                            'counter': counter})\n",
    "print(counter)           \n",
    "for block in blocks:\n",
    "    dc_m = dct(dct(block['block'].T, norm='ortho').T, norm='ortho')\n",
    "    qua_m = quantization(dc_m, 'lum' if block['k'] == 0 else 'chr')\n",
    "    ##print(qua_m.shape)\n",
    "    z = np.array([qua_m[point] for point in zigzag(*qua_m.shape)])\n",
    "    ##print(z)\n",
    "    dc[block['counter'] - 1, block['k']] = z[0]\n",
    "    ac[block['counter'] - 1, :, block['k']] = z[1:]\n",
    "\n"
   ]
  },
  {
   "cell_type": "code",
   "execution_count": 40,
   "metadata": {},
   "outputs": [],
   "source": [
    "rlc_lum = []\n",
    "rlc_chr = []\n",
    "\n",
    "for b in range(counter):\n",
    "    for x in run_length_coding(ac[b,:,0]):\n",
    "        if len(x)!=0:\n",
    "            rlc_lum.append(x)\n",
    "\n",
    "for b in range(counter):\n",
    "        for i in range(1,2,1):\n",
    "            for x in run_length_coding(ac[b,:,i]):\n",
    "                if len(x)!=0:\n",
    "                    rlc_chr.append(x)\n",
    "\n"
   ]
  },
  {
   "cell_type": "code",
   "execution_count": 55,
   "metadata": {},
   "outputs": [
    {
     "name": "stdout",
     "output_type": "stream",
     "text": [
      "7_6_5_4_3_0_2_1\n",
      "<class 'huffman.Node'>\n",
      "7_0_6_1_2_5_3_4\n",
      "<class 'huffman.Node'>\n"
     ]
    }
   ],
   "source": [
    "x = dpcm(dc[:, 0])\n",
    "dc_lum = []\n",
    "for i in x:\n",
    "    dc_lum.append(int32(bit_numerator(int(i))))\n",
    "\n",
    "x = dpcm(dc[:, 1:].flat)\n",
    "dc_chr = []\n",
    "for i in x:\n",
    "    dc_chr.append(int32(bit_numerator(int(i))))\n",
    "\n",
    "dc_huffman_lum = encode(dc_lum)\n",
    "dc_huffman_chr = encode(dc_chr)"
   ]
  },
  {
   "cell_type": "code",
   "execution_count": 51,
   "metadata": {},
   "outputs": [
    {
     "name": "stdout",
     "output_type": "stream",
     "text": [
      "20_30_28_27_29_26_25_24_21_23_22_19_18_17_16_15_14_13_12_11_10_9_8_7_6_5_4_3_2_1_0\n",
      "<class 'huffman.Node'>\n",
      "10_8_38_13_9_7_6_5_4_3_2_1_0\n",
      "<class 'huffman.Node'>\n"
     ]
    }
   ],
   "source": [
    "ac_lum = [int32(rlc_lum[i][0]) for i in range(len(rlc_lum)-1)]\n",
    "ac_chr = [int32(rlc_chr[i][0]) for i in range(len(rlc_chr)-1)]\n",
    "\n",
    "ac_huffman_lum = encode(ac_lum)\n",
    "ac_huffman_chr = encode(ac_chr)"
   ]
  },
  {
   "cell_type": "code",
   "execution_count": 52,
   "metadata": {},
   "outputs": [],
   "source": [
    "def write_to_file(name, x):\n",
    "    file = open('{}.obj'.format(name), 'wb') \n",
    "    pickle.dump(x, file)\n",
    "    file.close()"
   ]
  },
  {
   "cell_type": "code",
   "execution_count": 58,
   "metadata": {},
   "outputs": [],
   "source": [
    "file = 'output'\n",
    "\n",
    "write_to_file(file, dc_huffman_lum)\n",
    "write_to_file(file, dc_huffman_chr)\n",
    "write_to_file(file, ac_huffman_lum)\n",
    "write_to_file(file, ac_huffman_chr)\n",
    "write_to_file(file, rlc_chr)\n",
    "write_to_file(file, rlc_lum)"
   ]
  }
 ],
 "metadata": {
  "kernelspec": {
   "display_name": "Python 3.8.10 64-bit",
   "language": "python",
   "name": "python3"
  },
  "language_info": {
   "codemirror_mode": {
    "name": "ipython",
    "version": 3
   },
   "file_extension": ".py",
   "mimetype": "text/x-python",
   "name": "python",
   "nbconvert_exporter": "python",
   "pygments_lexer": "ipython3",
   "version": "3.8.10"
  },
  "orig_nbformat": 4,
  "vscode": {
   "interpreter": {
    "hash": "916dbcbb3f70747c44a77c7bcd40155683ae19c65e1c03b4aa3499c5328201f1"
   }
  }
 },
 "nbformat": 4,
 "nbformat_minor": 2
}
